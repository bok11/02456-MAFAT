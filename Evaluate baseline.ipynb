{
 "cells": [
  {
   "cell_type": "code",
   "execution_count": 1,
   "metadata": {
    "collapsed": true
   },
   "outputs": [],
   "source": [
    "import torch\n",
    "from torch.autograd import Variable\n",
    "from torch.nn.parameter import Parameter\n",
    "import torchvision.transforms as transforms\n",
    "import torch.nn as nn\n",
    "import torch.nn.functional as F\n",
    "import torch.optim as optim\n",
    "import torch.nn.init as init\n",
    "import torchvision\n",
    "import torchvision.models as models\n",
    "from torch.utils.data import Dataset, DataLoader\n",
    "from torch.utils.data.sampler import SubsetRandomSampler"
   ]
  },
  {
   "cell_type": "code",
   "execution_count": 2,
   "metadata": {},
   "outputs": [
    {
     "name": "stdout",
     "output_type": "stream",
     "text": [
      "----------------------------------------------------------------------\n",
      "Operating system: linux\n",
      "Using pytorch backend\n",
      "----------------------------------------------------------------------\n"
     ]
    }
   ],
   "source": [
    "import os\n",
    "import numpy as np\n",
    "import pandas as pd\n",
    "import random\n",
    "from PIL import Image\n",
    "from libcpab.libcpab.pytorch import cpab\n",
    "from sklearn.metrics import average_precision_score\n",
    "import pylab as pl\n",
    "import matplotlib.pyplot as plt\n",
    "from IPython import display\n",
    "from skimage.transform import resize\n",
    "import datetime"
   ]
  },
  {
   "cell_type": "code",
   "execution_count": 3,
   "metadata": {
    "collapsed": true
   },
   "outputs": [],
   "source": [
    "class FineGrainedDataset(Dataset):\n",
    "    \n",
    "    def __init__(self, csv_path,picture_path, picturesize, transform=True):\n",
    "        \"\"\"\n",
    "        Construct Fine Grained Dataset.\n",
    "        \n",
    "        Args\n",
    "            csv_path: Path to CSV file.\n",
    "            picturesize: Dimensions of sample images.\n",
    "            transform: \n",
    "        \"\"\"\n",
    "        self.transform = transform\n",
    "        self.picturesize = picturesize\n",
    "        \n",
    "        # construct dataframe with onehot notation\n",
    "        self.df = pd.get_dummies(pd.read_csv(csv_path))\n",
    "        # create ID column with image file names\n",
    "        self.df['id'] = self.df['image_id'].apply(lambda x: str(x)) + \"_\" + self.df['tag_id'].apply(lambda x: str(x)) + \".png\"\n",
    "        # only use class columns and id column\n",
    "        self.df = self.df.iloc[:, 10:]\n",
    "        \n",
    "        #replace -1 with 0\n",
    "        self.df = self.df.replace(to_replace=-1, value=0)\n",
    "        \n",
    "        self.path = picture_path\n",
    "            \n",
    "        \n",
    "    def __getitem__(self, idx):\n",
    "        \"\"\"\n",
    "        Support integer indexing on dataset (range 0 to len(self)).\n",
    "        \"\"\"\n",
    "        sample_id = self.df['id'].iloc[idx]\n",
    "        \n",
    "        # get target values for sample\n",
    "        targets = self.df.loc[idx, self.df.columns != 'id'].values.astype('float32')\n",
    "        \n",
    "        # get sample image\n",
    "        image = np.asarray(Image.open(self.path + sample_id))\n",
    "        \n",
    "        # transform sample\n",
    "        if self.transform:\n",
    "            img = image\n",
    "            img_normalized = np.copy(img)\n",
    "            img_normalized = img_normalized / 255.\n",
    "            \n",
    "            img_resized = resize(img_normalized, output_shape=(self.picturesize,self.picturesize), mode='reflect', anti_aliasing=True)[:,:,:3]\n",
    "            \n",
    "            sample = {'id': sample_id, 'targets': torch.from_numpy(targets), 'image': torch.from_numpy(img_resized)}\n",
    "        else:\n",
    "            sample = {'id': sample_id, 'targets': targets, 'image': image}\n",
    "        \n",
    "        return sample\n",
    "    \n",
    "    def __len__(self):\n",
    "        \"\"\"\n",
    "        Get length of dataset.\n",
    "        \"\"\"\n",
    "        return len(self.df)\n",
    "    "
   ]
  },
  {
   "cell_type": "code",
   "execution_count": 4,
   "metadata": {
    "collapsed": true
   },
   "outputs": [],
   "source": [
    "def train_valid_split(df, trainsplit_size=0.8):\n",
    "    \"\"\"\n",
    "    Split a dataset in training- and validation split.\n",
    "\n",
    "    Split is made by splitting the least represented class first\n",
    "    and the highest represented class last.\n",
    "\n",
    "    Function is made for multilabel problems where samples that are already \n",
    "    drawn from a previous class are not drawn again, and the ratio of the \n",
    "    split is calculated at each class from the previous draws to match the \n",
    "    split criteria.\n",
    "\n",
    "    Args\n",
    "        df: A dataframe which the split should be created from.\n",
    "            The indexes should be the ID's of the samples.\n",
    "        trainsplit_size: The size of the training split. \n",
    "                         Should be a float in the interval [0, 1]\n",
    "    \"\"\"\n",
    "    # placeholders\n",
    "    cls = {}\n",
    "    train_idx = []\n",
    "    valid_idx = []\n",
    "    \n",
    "    df_cls = df.loc[:, df.columns != 'id']\n",
    "\n",
    "    # get number of occurrences for each class\n",
    "    for col in df_cls:\n",
    "        size = len(df_cls.loc[df_cls[col] == 1])\n",
    "        cls[col] = size\n",
    "\n",
    "    # sort classes by ascending\n",
    "    cls_sorted = sorted(cls.items(), key=lambda value: value[1])\n",
    "\n",
    "    # iterate over classes from least represented class\n",
    "    # and draw samples for training- and validation split\n",
    "    for col in cls_sorted:\n",
    "        # get indexes for samples where class value is 1\n",
    "        indexes = df_cls.loc[df_cls[col[0]] == 1].index\n",
    "\n",
    "        # Remove indexes that already are appended to test_idx array\n",
    "        indexes = [indexes[i] for i in range(len(indexes)) if indexes[i] not in valid_idx and indexes[i] not in train_idx]\n",
    "\n",
    "        # get size of how many indexes should be drawn for train\n",
    "        train_size = int(len(indexes) * trainsplit_size)\n",
    "\n",
    "        # get indexes for train- and validation split\n",
    "        idx_train = [indexes[i] for i in sorted(random.sample(range(len(indexes)), train_size))]\n",
    "        idx_valid = [indexes[i] for i in range(len(indexes)) if indexes[i] not in idx_train]\n",
    "\n",
    "        # save indexes\n",
    "        train_idx.extend(idx_train)\n",
    "        valid_idx.extend(idx_valid)\n",
    "        \n",
    "    print(\"Number of samples in provided dataset: {}\\n\".format(len(df_cls)))\n",
    "    print(\"Split criteria\\ntrain size: {:.2f} %\\nvalid size: {:.2f} %\".format(trainsplit_size*100, \n",
    "                                                                   (1-trainsplit_size)*100))\n",
    "    print(\"\\nSplit results\")\n",
    "    print(\"Train size:\\t{}\\t({:.2f} %)\".format(len(train_idx), \\\n",
    "                                               (len(train_idx) / len(df_cls)) * 100))\n",
    "    print(\"Val size:\\t{}\\t({:.2f} %)\".format(len(valid_idx), \\\n",
    "                                     (len(valid_idx) / len(df_cls)) * 100))\n",
    "\n",
    "    return train_idx, valid_idx"
   ]
  },
  {
   "cell_type": "code",
   "execution_count": 5,
   "metadata": {},
   "outputs": [
    {
     "data": {
      "text/html": [
       "<div>\n",
       "<style>\n",
       "    .dataframe thead tr:only-child th {\n",
       "        text-align: right;\n",
       "    }\n",
       "\n",
       "    .dataframe thead th {\n",
       "        text-align: left;\n",
       "    }\n",
       "\n",
       "    .dataframe tbody tr th {\n",
       "        vertical-align: top;\n",
       "    }\n",
       "</style>\n",
       "<table border=\"1\" class=\"dataframe\">\n",
       "  <thead>\n",
       "    <tr style=\"text-align: right;\">\n",
       "      <th></th>\n",
       "      <th>sunroof</th>\n",
       "      <th>luggage_carrier</th>\n",
       "      <th>open_cargo_area</th>\n",
       "      <th>enclosed_cab</th>\n",
       "      <th>spare_wheel</th>\n",
       "      <th>wrecked</th>\n",
       "      <th>flatbed</th>\n",
       "      <th>ladder</th>\n",
       "      <th>enclosed_box</th>\n",
       "      <th>soft_shell_box</th>\n",
       "      <th>...</th>\n",
       "      <th>sub_class_van</th>\n",
       "      <th>color_black</th>\n",
       "      <th>color_blue</th>\n",
       "      <th>color_green</th>\n",
       "      <th>color_other</th>\n",
       "      <th>color_red</th>\n",
       "      <th>color_silver/grey</th>\n",
       "      <th>color_white</th>\n",
       "      <th>color_yellow</th>\n",
       "      <th>id</th>\n",
       "    </tr>\n",
       "  </thead>\n",
       "  <tbody>\n",
       "    <tr>\n",
       "      <th>0</th>\n",
       "      <td>0</td>\n",
       "      <td>0</td>\n",
       "      <td>0</td>\n",
       "      <td>0</td>\n",
       "      <td>0</td>\n",
       "      <td>0</td>\n",
       "      <td>0</td>\n",
       "      <td>0</td>\n",
       "      <td>0</td>\n",
       "      <td>0</td>\n",
       "      <td>...</td>\n",
       "      <td>0</td>\n",
       "      <td>1</td>\n",
       "      <td>0</td>\n",
       "      <td>0</td>\n",
       "      <td>0</td>\n",
       "      <td>0</td>\n",
       "      <td>0</td>\n",
       "      <td>0</td>\n",
       "      <td>0</td>\n",
       "      <td>16490_15036.png</td>\n",
       "    </tr>\n",
       "    <tr>\n",
       "      <th>1</th>\n",
       "      <td>0</td>\n",
       "      <td>0</td>\n",
       "      <td>0</td>\n",
       "      <td>0</td>\n",
       "      <td>0</td>\n",
       "      <td>0</td>\n",
       "      <td>0</td>\n",
       "      <td>0</td>\n",
       "      <td>1</td>\n",
       "      <td>0</td>\n",
       "      <td>...</td>\n",
       "      <td>0</td>\n",
       "      <td>0</td>\n",
       "      <td>0</td>\n",
       "      <td>0</td>\n",
       "      <td>0</td>\n",
       "      <td>1</td>\n",
       "      <td>0</td>\n",
       "      <td>0</td>\n",
       "      <td>0</td>\n",
       "      <td>16490_31658.png</td>\n",
       "    </tr>\n",
       "    <tr>\n",
       "      <th>2</th>\n",
       "      <td>0</td>\n",
       "      <td>0</td>\n",
       "      <td>0</td>\n",
       "      <td>0</td>\n",
       "      <td>0</td>\n",
       "      <td>0</td>\n",
       "      <td>0</td>\n",
       "      <td>0</td>\n",
       "      <td>0</td>\n",
       "      <td>0</td>\n",
       "      <td>...</td>\n",
       "      <td>0</td>\n",
       "      <td>0</td>\n",
       "      <td>0</td>\n",
       "      <td>0</td>\n",
       "      <td>0</td>\n",
       "      <td>1</td>\n",
       "      <td>0</td>\n",
       "      <td>0</td>\n",
       "      <td>0</td>\n",
       "      <td>17122_26971.png</td>\n",
       "    </tr>\n",
       "    <tr>\n",
       "      <th>3</th>\n",
       "      <td>0</td>\n",
       "      <td>0</td>\n",
       "      <td>0</td>\n",
       "      <td>0</td>\n",
       "      <td>0</td>\n",
       "      <td>0</td>\n",
       "      <td>0</td>\n",
       "      <td>0</td>\n",
       "      <td>0</td>\n",
       "      <td>0</td>\n",
       "      <td>...</td>\n",
       "      <td>0</td>\n",
       "      <td>0</td>\n",
       "      <td>0</td>\n",
       "      <td>0</td>\n",
       "      <td>0</td>\n",
       "      <td>0</td>\n",
       "      <td>1</td>\n",
       "      <td>0</td>\n",
       "      <td>0</td>\n",
       "      <td>12193_19301.png</td>\n",
       "    </tr>\n",
       "    <tr>\n",
       "      <th>4</th>\n",
       "      <td>0</td>\n",
       "      <td>0</td>\n",
       "      <td>0</td>\n",
       "      <td>0</td>\n",
       "      <td>0</td>\n",
       "      <td>0</td>\n",
       "      <td>1</td>\n",
       "      <td>0</td>\n",
       "      <td>0</td>\n",
       "      <td>0</td>\n",
       "      <td>...</td>\n",
       "      <td>0</td>\n",
       "      <td>0</td>\n",
       "      <td>0</td>\n",
       "      <td>0</td>\n",
       "      <td>0</td>\n",
       "      <td>1</td>\n",
       "      <td>0</td>\n",
       "      <td>0</td>\n",
       "      <td>0</td>\n",
       "      <td>12193_35906.png</td>\n",
       "    </tr>\n",
       "  </tbody>\n",
       "</table>\n",
       "<p>5 rows × 38 columns</p>\n",
       "</div>"
      ],
      "text/plain": [
       "   sunroof  luggage_carrier  open_cargo_area  enclosed_cab  spare_wheel  \\\n",
       "0        0                0                0             0            0   \n",
       "1        0                0                0             0            0   \n",
       "2        0                0                0             0            0   \n",
       "3        0                0                0             0            0   \n",
       "4        0                0                0             0            0   \n",
       "\n",
       "   wrecked  flatbed  ladder  enclosed_box  soft_shell_box       ...         \\\n",
       "0        0        0       0             0               0       ...          \n",
       "1        0        0       0             1               0       ...          \n",
       "2        0        0       0             0               0       ...          \n",
       "3        0        0       0             0               0       ...          \n",
       "4        0        1       0             0               0       ...          \n",
       "\n",
       "   sub_class_van  color_black  color_blue  color_green  color_other  \\\n",
       "0              0            1           0            0            0   \n",
       "1              0            0           0            0            0   \n",
       "2              0            0           0            0            0   \n",
       "3              0            0           0            0            0   \n",
       "4              0            0           0            0            0   \n",
       "\n",
       "   color_red  color_silver/grey  color_white  color_yellow               id  \n",
       "0          0                  0            0             0  16490_15036.png  \n",
       "1          1                  0            0             0  16490_31658.png  \n",
       "2          1                  0            0             0  17122_26971.png  \n",
       "3          0                  1            0             0  12193_19301.png  \n",
       "4          1                  0            0             0  12193_35906.png  \n",
       "\n",
       "[5 rows x 38 columns]"
      ]
     },
     "execution_count": 5,
     "metadata": {},
     "output_type": "execute_result"
    }
   ],
   "source": [
    "dataset = FineGrainedDataset(csv_path='./dataset_v2/train.csv',picture_path='./dataset_v2/root/train/cropped/', picturesize=224, transform=True)\n",
    "dataset.df.head()"
   ]
  },
  {
   "cell_type": "code",
   "execution_count": 6,
   "metadata": {},
   "outputs": [
    {
     "name": "stdout",
     "output_type": "stream",
     "text": [
      "Number of samples in provided dataset: 11617\n",
      "\n",
      "Split criteria\n",
      "train size: 80.00 %\n",
      "valid size: 20.00 %\n",
      "\n",
      "Split results\n",
      "Train size:\t9281\t(79.89 %)\n",
      "Val size:\t2336\t(20.11 %)\n"
     ]
    }
   ],
   "source": [
    "train_indexes, valid_indexes = train_valid_split(dataset.df)"
   ]
  },
  {
   "cell_type": "code",
   "execution_count": 7,
   "metadata": {
    "collapsed": true
   },
   "outputs": [],
   "source": [
    "BATCH_SIZE = 32\n",
    "\n",
    "trainsampler = SubsetRandomSampler(train_indexes)\n",
    "validsampler = SubsetRandomSampler(valid_indexes)\n",
    "\n",
    "samplers = {'train': trainsampler,\n",
    "            'valid': validsampler}\n",
    "\n",
    "trainloader = DataLoader(dataset=dataset,\n",
    "                         batch_size=BATCH_SIZE,\n",
    "                         sampler=samplers['train'],\n",
    "                         num_workers=4)\n",
    "validloader = DataLoader(dataset=dataset,\n",
    "                         batch_size=BATCH_SIZE,\n",
    "                         sampler=samplers['valid'],\n",
    "                         num_workers=4)\n",
    "\n",
    "dataloaders = {'train': trainloader,\n",
    "               'valid': validloader}\n",
    "\n",
    "dataset_sizes = {x: len(samplers[x]) for x in ['train', 'valid']}"
   ]
  },
  {
   "cell_type": "markdown",
   "metadata": {},
   "source": [
    "# Baseline"
   ]
  },
  {
   "cell_type": "code",
   "execution_count": 9,
   "metadata": {
    "collapsed": true
   },
   "outputs": [],
   "source": [
    "A = dataset.df.iloc[:,:-1].values\n",
    "unique_rows,counts = np.unique(A, return_counts=True,axis=0)\n",
    "mask = unique_rows[np.argmax(counts)]"
   ]
  },
  {
   "cell_type": "code",
   "execution_count": 53,
   "metadata": {
    "collapsed": true
   },
   "outputs": [],
   "source": [
    "#Generate histogram\n",
    "y = np.argsort(counts)[-3:]\n",
    "y = y[::-1]\n",
    "labs = unique_rows[y]\n",
    "labs = [dataset.df.columns[np.where(X==1)].tolist() for X in labs]\n",
    "y = counts[y]\n",
    "y_pos = np.arange(len(y))\n",
    "y = 100*y/dataset.df.shape[0]"
   ]
  },
  {
   "cell_type": "code",
   "execution_count": 54,
   "metadata": {
    "scrolled": false
   },
   "outputs": [
    {
     "data": {
      "image/png": "[encoded data removed]",
      "text/plain": [
       "<Figure size 720x360 with 1 Axes>"
      ]
     },
     "metadata": {},
     "output_type": "display_data"
    }
   ],
   "source": [
    "width = 1/1.5\n",
    "plt.figure(figsize=(10,5))\n",
    "plt.title(\"Top 3 classes\")\n",
    "plt.bar(y_pos,y,align='center', alpha=0.5)\n",
    "plt.ylabel(\"Percent\")\n",
    "plt.xticks( y_pos,labs, rotation=5)\n",
    "plt.show()\n",
    "    "
   ]
  },
  {
   "cell_type": "markdown",
   "metadata": {},
   "source": [
    "# Map"
   ]
  },
  {
   "cell_type": "code",
   "execution_count": 26,
   "metadata": {
    "collapsed": true
   },
   "outputs": [],
   "source": [
    "def MAP(predicted_data, true_data):\n",
    "    predicted = np.swapaxes(predicted_data,0,1)\n",
    "    true = np.swapaxes(true_data,0,1)\n",
    "    NC = predicted.shape[0]\n",
    "    result = 0\n",
    "    \n",
    "    \n",
    "    for i in range(NC):\n",
    "        result += average_precision_score(true[i],predicted[i],\"weighted\")\n",
    "    \n",
    "    result = result / NC\n",
    "    \n",
    "    return result"
   ]
  },
  {
   "cell_type": "code",
   "execution_count": 68,
   "metadata": {
    "collapsed": true
   },
   "outputs": [],
   "source": [
    "preds = np.empty((0,37), int)\n",
    "trues = np.empty((0,37), int)\n",
    "threshold = 0.5\n",
    "\n",
    "output = []\n",
    "for i in range(32):\n",
    "    output.append(mask)\n",
    "\n",
    "for batch in dataloaders['valid']:\n",
    "    inputs = batch['image'].permute(0, 3, 1, 2)\n",
    "    labels = batch['targets']\n",
    "    #inputs, labels = inputs.to(device, dtype=torch.float), labels.to(device, dtype=torch.float) \n",
    "            \n",
    "    # Append values for later calculation of accuracy\n",
    "    preds = np.append(preds,[[1 if pred > threshold else 0 for pred in sample] for sample in output],axis=0)\n",
    "    trues = np.append(trues,[[1 if pred > threshold else 0 for pred in sample] for sample in labels.tolist()], axis=0)\n",
    "\n"
   ]
  },
  {
   "cell_type": "code",
   "execution_count": 69,
   "metadata": {},
   "outputs": [
    {
     "data": {
      "text/plain": [
       "0.08828905960755273"
      ]
     },
     "execution_count": 69,
     "metadata": {},
     "output_type": "execute_result"
    }
   ],
   "source": [
    "MAP(preds, trues)"
   ]
  }
 ],
 "metadata": {
  "kernelspec": {
   "display_name": "Python 3",
   "language": "python",
   "name": "python3"
  },
  "language_info": {
   "codemirror_mode": {
    "name": "ipython",
    "version": 3
   },
   "file_extension": ".py",
   "mimetype": "text/x-python",
   "name": "python",
   "nbconvert_exporter": "python",
   "pygments_lexer": "ipython3",
   "version": "3.6.3"
  }
 },
 "nbformat": 4,
 "nbformat_minor": 2
}
