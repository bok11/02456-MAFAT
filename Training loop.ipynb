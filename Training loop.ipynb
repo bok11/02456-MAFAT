{
 "cells": [
  {
   "cell_type": "markdown",
   "metadata": {},
   "source": [
    "# Imports\n"
   ]
  },
  {
   "cell_type": "code",
   "execution_count": 1,
   "metadata": {},
   "outputs": [],
   "source": [
    "import torch\n",
    "from torch.autograd import Variable\n",
    "from torch.nn.parameter import Parameter\n",
    "import torchvision.transforms as transforms\n",
    "import torch.nn as nn\n",
    "import torch.nn.functional as F\n",
    "import torch.optim as optim\n",
    "import torch.nn.init as init\n",
    "import torchvision\n",
    "import torchvision.models as models"
   ]
  },
  {
   "cell_type": "code",
   "execution_count": 2,
   "metadata": {},
   "outputs": [],
   "source": [
    "import os\n",
    "import numpy as np\n",
    "import pandas as pd\n",
    "from PIL import Image\n",
    "\n",
    "\n",
    "import pylab as pl\n",
    "from IPython import display\n",
    "\n",
    "\n",
    "import pandas as pd\n",
    "import numpy as np\n",
    "import os\n",
    "from skimage import io\n",
    "from skimage.transform import rescale\n",
    "import matplotlib.pyplot as plt"
   ]
  },
  {
   "cell_type": "code",
   "execution_count": 18,
   "metadata": {},
   "outputs": [],
   "source": []
  },
  {
   "cell_type": "markdown",
   "metadata": {},
   "source": [
    "# Custom functions"
   ]
  },
  {
   "cell_type": "code",
   "execution_count": 3,
   "metadata": {},
   "outputs": [],
   "source": [
    "def convert(image_path, target=224):   \n",
    "    image = io.imread(image_path)\n",
    "    rescale_factor = target / image.shape[0],target / image.shape[1]\n",
    "    scaled = rescale(image, rescale_factor)[:,:,:3]\n",
    "    scaled = scaled.transpose((-1, 0, 1))\n",
    "    scaled.shape\n",
    "\n",
    "    return scaled\n",
    "\n",
    "def get_countlist(classes,directory):\n",
    "    countlist = []\n",
    "\n",
    "    for i, klasse in enumerate(classes):\n",
    "        output = os.listdir(\"{}{}\".format(directory,klasse))    \n",
    "        path, dirs, files = next(os.walk(\"{}{}\".format(directory,klasse)))\n",
    "        file_count = len(files)\n",
    "        print(f\"Class: {i} - {file_count}\\t - {classes[i]}\")\n",
    "        countlist.append(file_count)\n",
    "    \n",
    "    return countlist"
   ]
  },
  {
   "cell_type": "code",
   "execution_count": 4,
   "metadata": {},
   "outputs": [],
   "source": [
    "def generate_datasets(directory,class_limit = 10,output_limit = 20,split_ratio = 0.8):\n",
    "    #class_limit = 10 # max 37\n",
    "    #output_limit = 20\n",
    "    #split_ratio = 0.8 # training ratio\n",
    "\n",
    "    trainlist = []\n",
    "    trainclass = []\n",
    "    testlist = []\n",
    "    testclass = []\n",
    "\n",
    "    for i, klasse in enumerate(classes[:class_limit+1]):\n",
    "        output = os.listdir(\"{}/{}\".format(directory,klasse))    \n",
    "        output_limit = countlist[i] * split_ratio \n",
    "\n",
    "        print(f\"Class: {i} - {int(output_limit)}/{countlist[i]}\\t - {classes[i]}\")\n",
    "\n",
    "        # Loop for training data\n",
    "        for image_path in output[:int(output_limit+1)]:\n",
    "            trainlist.append(convert(\"{}{}/{}\".format(directory,klasse, image_path)))\n",
    "            trainclass.append(klasse)\n",
    "\n",
    "        # Loop for test data\n",
    "        for image_path in output[int(output_limit):]:\n",
    "            testlist.append(convert(\"{}{}/{}\".format(directory,klasse, image_path)))\n",
    "            testclass.append(klasse)\n",
    "\n",
    "    trainlist = np.asarray(trainlist)\n",
    "    testlist = np.asarray(testlist)\n",
    "    train_oh = pd.get_dummies(pd.DataFrame(trainclass)).values\n",
    "    test_oh = pd.get_dummies(pd.DataFrame(testclass)).values\n",
    "\n",
    "    return trainlist, testlist, train_oh, test_oh"
   ]
  },
  {
   "cell_type": "markdown",
   "metadata": {},
   "source": [
    "# Load dataset"
   ]
  },
  {
   "cell_type": "code",
   "execution_count": 16,
   "metadata": {},
   "outputs": [
    {
     "name": "stdout",
     "output_type": "stream",
     "text": [
      "Class: 0 - 362\t - van\n",
      "Class: 1 - 179\t - truck\n",
      "Class: 2 - 97\t - green\n",
      "Class: 3 - 865\t - jeep\n",
      "Class: 4 - 72\t - ac_vents\n",
      "Class: 5 - 3080\t - hatchback\n",
      "Class: 6 - 4\t - harnessed_to_a_cart\n",
      "Class: 7 - 853\t - sunroof\n",
      "Class: 8 - 881\t - wrecked\n",
      "Class: 9 - 414\t - red\n",
      "Class: 10 - 172\t - enclosed_cab\n",
      "Class: 11 - 77\t - flatbed\n",
      "Class: 12 - 53\t - bus\n",
      "Class: 13 - 5783\t - sedan\n",
      "Class: 14 - 2\t - ladder\n",
      "Class: 15 - 586\t - minivan\n",
      "Class: 16 - 3\t - tanker\n",
      "Class: 17 - 5\t - dedicated_agricultural_vehicle\n",
      "Class: 18 - 133\t - enclosed_box\n",
      "Class: 19 - 742\t - blue\n",
      "Class: 20 - 164\t - light_truck\n",
      "Class: 21 - 1158\t - black\n",
      "Class: 22 - 258\t - yellow\n",
      "Class: 23 - 44\t - prime_mover\n",
      "Class: 24 - 383\t - luggage_carrier\n",
      "Class: 25 - 25\t - minibus\n",
      "Class: 26 - 256\t - open_cargo_area\n",
      "Class: 27 - 181\t - spare_wheel\n",
      "Class: 28 - 17\t - cement_mixer\n",
      "Class: 29 - 30\t - soft_shell_box\n",
      "Class: 30 - 626\t - other\n",
      "Class: 31 - 506\t - large_vehicle\n",
      "Class: 32 - 3505\t - silver_grey\n",
      "Class: 33 - 16\t - crane_truck\n",
      "Class: 34 - 435\t - pickup\n",
      "Class: 35 - 4817\t - white\n",
      "Class: 36 - 11111\t - small_vehicle\n",
      "Class: 0 - 289/362\t - van\n"
     ]
    },
    {
     "name": "stderr",
     "output_type": "stream",
     "text": [
      "/home/bok/anaconda3/lib/python3.6/site-packages/skimage/transform/_warps.py:84: UserWarning: The default mode, 'constant', will be changed to 'reflect' in skimage 0.15.\n",
      "  warn(\"The default mode, 'constant', will be changed to 'reflect' in \"\n"
     ]
    },
    {
     "name": "stdout",
     "output_type": "stream",
     "text": [
      "Class: 1 - 143/179\t - truck\n"
     ]
    }
   ],
   "source": [
    "# init functions\n",
    "directory=\"./dataset_v2/root/train/classes/\"\n",
    "classes = [x[1] for x in os.walk(directory)][0]\n",
    "\n",
    "#run helper functions\n",
    "countlist = get_countlist(classes,directory)\n",
    "dummy = pd.get_dummies(pd.DataFrame(classes))\n",
    "\n",
    "# get dataset\n",
    "x_train, x_test, y_train, y_test = generate_datasets(directory,class_limit = 2,output_limit = 20,split_ratio = 0.8)  "
   ]
  },
  {
   "cell_type": "markdown",
   "metadata": {},
   "source": [
    "# Define neural network\n",
    "## Prepare pretrained resnet"
   ]
  },
  {
   "cell_type": "code",
   "execution_count": 6,
   "metadata": {},
   "outputs": [],
   "source": [
    "#define the model\n",
    "model_conv = models.resnet50(pretrained='imagenet')\n",
    "\n",
    "# disable autograd for resnet\n",
    "for param in model_conv.parameters():\n",
    "    param.requires_grad = False\n",
    "    \n",
    "# Change fully connected layer to match paper (autograd is default on new layers)\n",
    "num_ftrs = model_conv.fc.in_features\n",
    "model_conv.fc = nn.Linear(num_ftrs, 1024)\n",
    "\n",
    "device = torch.device(\"cuda\" if torch.cuda.is_available() else \"cpu\")\n",
    "model_conv = model_conv.to(device)"
   ]
  },
  {
   "cell_type": "markdown",
   "metadata": {},
   "source": [
    "## Define neural network"
   ]
  },
  {
   "cell_type": "code",
   "execution_count": 55,
   "metadata": {},
   "outputs": [],
   "source": [
    "class Net(nn.Module):\n",
    "\n",
    "    def __init__(self):\n",
    "        super(Net, self).__init__()  \n",
    "        # input layer\n",
    "        self.output = nn.Linear(1024,2)\n",
    "       \n",
    "\n",
    "    def forward(self, x):\n",
    "        x = model_conv(x)\n",
    "        x = F.relu(x)\n",
    "        x = self.output(x)\n",
    "        x = F.softmax(x)\n",
    "        return x\n",
    "\n",
    "\n",
    "net = Net()\n",
    "\n",
    "cuda = torch.cuda.is_available()\n",
    "if cuda:\n",
    "    net.cuda()"
   ]
  },
  {
   "cell_type": "code",
   "execution_count": 66,
   "metadata": {},
   "outputs": [
    {
     "data": {
      "text/plain": [
       "29"
      ]
     },
     "execution_count": 66,
     "metadata": {},
     "output_type": "execute_result"
    }
   ],
   "source": [
    "epoch"
   ]
  },
  {
   "cell_type": "markdown",
   "metadata": {},
   "source": [
    "# Train"
   ]
  },
  {
   "cell_type": "code",
   "execution_count": null,
   "metadata": {},
   "outputs": [
    {
     "name": "stdout",
     "output_type": "stream",
     "text": [
      "Using device: cpu\n"
     ]
    },
    {
     "name": "stderr",
     "output_type": "stream",
     "text": [
      "/home/bok/anaconda3/lib/python3.6/site-packages/ipykernel_launcher.py:13: UserWarning: Implicit dimension choice for softmax has been deprecated. Change the call to include dim=X as an argument.\n",
      "  del sys.path[0]\n"
     ]
    },
    {
     "name": "stdout",
     "output_type": "stream",
     "text": [
      "0.00026715575950220227\n"
     ]
    }
   ],
   "source": [
    "%matplotlib inline\n",
    "epochs = 30\n",
    "BATCH_SIZE= 64\n",
    "valid_every = 2\n",
    "criterion = nn.MSELoss()  # Your code here!\n",
    "optimizer = optim.SGD(net.parameters(), lr=0.005, momentum=0.9) # Your code here!\n",
    "\n",
    "# prepare data\n",
    "inputs_train = torch.tensor(x_train).float()\n",
    "targets_train = torch.tensor(y_train).float()\n",
    "inputs_test = torch.tensor(x_test).float()\n",
    "targets_test = torch.tensor(y_test).float()\n",
    "\n",
    "\n",
    "device = torch.device(\"cuda:0\" if cuda else \"cpu\")\n",
    "print(\"Using device:\", device)\n",
    "\n",
    "inputs_train.to(device)\n",
    "targets_train.to(device)\n",
    "inputs_test.to(device)\n",
    "targets_test.to(device)\n",
    "\n",
    "losses_train = pd.DataFrame(columns=['Epoch','Loss'])\n",
    "losses_valid = pd.DataFrame(columns=['Epoch','Loss'])\n",
    "\n",
    "\n",
    "\n",
    "for epoch in range(epochs):\n",
    "    batch_loss = []\n",
    "   \n",
    "    net.train()\n",
    "    for i in range(len(inputs_train[:100]) // BATCH_SIZE):\n",
    "        batch = inputs_train[i * BATCH_SIZE: (i + 1) * BATCH_SIZE] \n",
    "        labels = targets_train[i * BATCH_SIZE: (i + 1) * BATCH_SIZE] \n",
    "        \n",
    "        # zero the parameter gradients\n",
    "        optimizer.zero_grad()\n",
    "        \n",
    "        output = net(batch)\n",
    "        loss = criterion(output, labels)\n",
    "        loss.backward()\n",
    "        optimizer.step()\n",
    "        \n",
    "        batch_loss.append(loss.item())\n",
    "        print(np.mean(batch_loss))\n",
    "        \n",
    "       \n",
    "    losses_train.loc[epoch] = [epoch+1,np.mean(batch_loss)]\n",
    "    \n",
    "    if epoch%valid_every == 0:\n",
    "        batch_loss = []\n",
    "        net.eval()\n",
    "        for i in range(len(inputs_test[:100]) // BATCH_SIZE):\n",
    "            batch = inputs_test[i * BATCH_SIZE: (i + 1) * BATCH_SIZE] \n",
    "            labels = targets_test[i * BATCH_SIZE: (i + 1) * BATCH_SIZE] \n",
    "\n",
    "\n",
    "            output = net(batch)\n",
    "            loss = criterion(output, labels)\n",
    "\n",
    "            batch_loss.append(loss.item())\n",
    "        \n",
    "        losses_valid.loc[epoch] = [epoch+1,np.mean(batch_loss)]    \n",
    "            \n",
    "    pl.figure(figsize=(15,5))\n",
    "    pl.xlabel('Epochs')\n",
    "    pl.ylabel('Loss')\n",
    "    pl.plot(losses_train['Epoch'],losses_train['Loss'], '-b', label='Train')\n",
    "    pl.plot(losses_valid['Epoch'],losses_valid['Loss'], '-r', label='Valid')\n",
    "    pl.legend()\n",
    "    pl.show()\n",
    "    display.clear_output(wait=True)   \n",
    "    \n"
   ]
  },
  {
   "cell_type": "code",
   "execution_count": 172,
   "metadata": {},
   "outputs": [
    {
     "data": {
      "image/png": "[encoded data removed]",
      "text/plain": [
       "<matplotlib.figure.Figure at 0x7f0daa4cf518>"
      ]
     },
     "metadata": {},
     "output_type": "display_data"
    }
   ],
   "source": [
    "%matplotlib inline\n",
    "import time\n",
    "import pylab as pl\n",
    "from IPython import display\n",
    "import random\n",
    "\n",
    "\n",
    "losses_train = pd.DataFrame(columns=['Epoch','Loss'])\n",
    "losses_valid = pd.DataFrame(columns=['Epoch','Loss'])\n",
    "\n",
    "#pylab.plot(x, y1, '-b', label='sine')\n",
    "\n",
    "\n",
    "losses = []\n",
    "for i in range(11):\n",
    "    loss_train = random.randint(1,100-i*8)\n",
    "    loss_valid = random.randint(1,100-i*8)\n",
    "    losses_train.loc[i] = [i,loss_train]\n",
    "    losses_valid.loc[i] = [i,loss_valid]\n",
    "    \n",
    "    #pl.cla()\n",
    "    pl.figure(figsize=(15,5))\n",
    "    pl.xlabel('Epochs')\n",
    "    pl.ylabel('Loss')\n",
    "    pl.plot(losses_train['Epoch'],losses_train['Loss'], '-b', label='Train')\n",
    "    pl.plot(losses_valid['Epoch'],losses_valid['Loss'], '-r', label='Valid')\n",
    "    pl.legend()\n",
    "    pl.show()\n",
    "    display.clear_output(wait=True)\n",
    "    #display.display(pl.gcf())\n",
    "    #pl.show()\n",
    "    time.sleep(1.0)\n"
   ]
  },
  {
   "cell_type": "code",
   "execution_count": null,
   "metadata": {},
   "outputs": [],
   "source": [
    "num_epoch = 10  # Your code here!\n",
    "\n",
    "net.train()\n",
    "for epoch in range(num_epoch):  # loop over the dataset multiple times\n",
    "\n",
    "    running_loss = 0.0\n",
    "    for i, data in enumerate(trainloader, 0):\n",
    "        # get the inputs\n",
    "        inputs, labels = data\n",
    "\n",
    "        # wrap them in Variable\n",
    "        inputs, labels = Variable(inputs), Variable(labels)\n",
    "\n",
    "        # zero the parameter gradients\n",
    "        optimizer.zero_grad()\n",
    "        \n",
    "        \n",
    "        \n",
    "        output = net(inputs)\n",
    "        #pred = torch.max(output,1)[1]\n",
    "        loss = criterion(output, labels)\n",
    "        loss.backward()\n",
    "        optimizer.step()    # Does the update\n",
    "\n",
    "        # forward + backward + optimize\n",
    "        \n",
    "        \n",
    "\n",
    "        # print statistics\n",
    "        running_loss += loss.data[0]\n",
    "        if i % 1000 == 999:    # print every 1000 mini-batches\n",
    "            print('[%d, %5d] loss: %.3f' %\n",
    "                  (epoch + 1, i + 1, running_loss / 1000))\n",
    "            running_loss = 0.0\n",
    "\n",
    "print('Finished Training')"
   ]
  },
  {
   "cell_type": "code",
   "execution_count": null,
   "metadata": {},
   "outputs": [],
   "source": [
    "# Get training set\n",
    "inputs, _, targets_in, targets, targets_seqlen, _, _, _, text_targ = generate(TRAINING_SIZE, min_len=MIN_SEQ_LEN, max_len=MAX_SEQ_LEN)\n",
    "max_target_len = max(targets_seqlen)\n",
    "inputs = torch.tensor(inputs)\n",
    "targets = torch.tensor(targets)\n",
    "targets_in = torch.tensor(targets_in)\n",
    "unique_text_targets = set(text_targ)\n",
    "\n",
    "# Get validation set\n",
    "val_inputs, _, val_targets_in, val_targets, val_targets_seqlen, _, val_text_in, _, val_text_targ = \\\n",
    "    generate(TEST_SIZE, min_len=MIN_SEQ_LEN, max_len=MAX_SEQ_LEN, invalid_set=unique_text_targets)\n",
    "val_inputs = torch.tensor(val_inputs)\n",
    "val_targets = torch.tensor(val_targets)\n",
    "val_targets_in = torch.tensor(val_targets_in)\n",
    "max_val_target_len = max(val_targets_seqlen)\n",
    "test(encoder, decoder, val_inputs, val_targets, val_targets_in, criterion, max_val_target_len)\n",
    "\n",
    "# Split training set in batches\n",
    "inputs = [inputs[i * BATCH_SIZE: (i + 1) * BATCH_SIZE] for i in range(TRAINING_SIZE // BATCH_SIZE)]\n",
    "targets = [targets[i * BATCH_SIZE: (i + 1) * BATCH_SIZE] for i in range(TRAINING_SIZE // BATCH_SIZE)]\n",
    "targets_in = [targets_in[i * BATCH_SIZE: (i + 1) * BATCH_SIZE] for i in range(TRAINING_SIZE // BATCH_SIZE)]\n",
    "\n",
    "# Quick and dirty - just loop over training set without reshuffling\n",
    "for epoch in range(1, EPOCHS + 1):\n",
    "    train(encoder, decoder, inputs, targets, targets_in, criterion, enc_optimizer, dec_optimizer, epoch, max_target_len)\n",
    "    _, loss, accuracy = test(encoder, decoder, val_inputs, val_targets, val_targets_in, criterion, max_val_target_len)\n",
    "    print('\\nTest set: Average loss: {:.4f} \\tAccuracy: {:.3f}%\\n'.format(loss, accuracy.item()*100.))\n",
    "\n",
    "    # Show examples\n",
    "    print(\"Examples: prediction | input\")\n",
    "    out, _, _ = test(encoder, decoder, val_inputs[:10], val_targets[:10], val_targets_in[:10], criterion, max_val_target_len)\n",
    "    pred = get_pred(out)\n",
    "    pred_text = [numbers_to_text(sample) for sample in pred]\n",
    "    for i in range(10):\n",
    "        print(pred_text[i], \"\\t\", val_text_in[i])\n",
    "    print()"
   ]
  }
 ],
 "metadata": {
  "kernelspec": {
   "display_name": "Python 3",
   "language": "python",
   "name": "python3"
  },
  "language_info": {
   "codemirror_mode": {
    "name": "ipython",
    "version": 3
   },
   "file_extension": ".py",
   "mimetype": "text/x-python",
   "name": "python",
   "nbconvert_exporter": "python",
   "pygments_lexer": "ipython3",
   "version": "3.6.4"
  }
 },
 "nbformat": 4,
 "nbformat_minor": 2
}
