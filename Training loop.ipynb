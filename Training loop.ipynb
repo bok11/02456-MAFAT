{
 "cells": [
  {
   "cell_type": "markdown",
   "metadata": {},
   "source": [
    "# Imports\n"
   ]
  },
  {
   "cell_type": "code",
   "execution_count": 1,
   "metadata": {
    "collapsed": true
   },
   "outputs": [],
   "source": [
    "import torch\n",
    "from torch.autograd import Variable\n",
    "from torch.nn.parameter import Parameter\n",
    "import torchvision.transforms as transforms\n",
    "import torch.nn as nn\n",
    "import torch.nn.functional as F\n",
    "import torch.optim as optim\n",
    "import torch.nn.init as init\n",
    "import torchvision\n",
    "import torchvision.models as models"
   ]
  },
  {
   "cell_type": "code",
   "execution_count": 2,
   "metadata": {
    "collapsed": true
   },
   "outputs": [],
   "source": [
    "import os\n",
    "import numpy as np\n",
    "import pandas as pd\n",
    "from PIL import Image\n",
    "from sklearn.metrics import accuracy_score\n",
    "import pylab as pl\n",
    "from IPython import display\n",
    "from skimage import io\n",
    "from skimage.transform import rescale\n",
    "import datetime"
   ]
  },
  {
   "cell_type": "markdown",
   "metadata": {},
   "source": [
    "# Custom functions"
   ]
  },
  {
   "cell_type": "code",
   "execution_count": 3,
   "metadata": {
    "collapsed": true
   },
   "outputs": [],
   "source": [
    "def convert(image_path, target=224):   \n",
    "    image = io.imread(image_path)\n",
    "    rescale_factor = target / image.shape[0],target / image.shape[1]\n",
    "    scaled = rescale(image, rescale_factor, anti_aliasing=False, multichannel=True,mode='constant')[:,:,:3]\n",
    "    scaled = scaled.transpose((-1, 0, 1))\n",
    "\n",
    "    return scaled\n",
    "\n",
    "def get_countlist(classes,directory):\n",
    "    countlist = []\n",
    "\n",
    "    for i, klasse in enumerate(classes):\n",
    "        output = os.listdir(\"{}{}\".format(directory,klasse))    \n",
    "        path, dirs, files = next(os.walk(\"{}{}\".format(directory,klasse)))\n",
    "        file_count = len(files)\n",
    "        print(f\"Class: {i} - {file_count}\\t - {classes[i]}\")\n",
    "        countlist.append(file_count)\n",
    "    \n",
    "    return countlist"
   ]
  },
  {
   "cell_type": "code",
   "execution_count": 4,
   "metadata": {
    "collapsed": true
   },
   "outputs": [],
   "source": [
    "def generate_datasets(directory,class_limit = 10,split_ratio = 0.8):\n",
    "    #class_limit = 10 # max 37\n",
    "    #output_limit = 20\n",
    "    #split_ratio = 0.8 # training ratio\n",
    "\n",
    "    trainlist = []\n",
    "    trainclass = []\n",
    "    validlist = []\n",
    "    validclass = []\n",
    "\n",
    "    for i, klasse in enumerate(classes[:class_limit+1]):\n",
    "        output = os.listdir(\"{}/{}\".format(directory,klasse))    \n",
    "        output_limit = 200* split_ratio #countlist[i] * split_ratio \n",
    "\n",
    "        print(f\"Class: {i} - {int(output_limit)}/{countlist[i]}\\t - {classes[i]}\")\n",
    "\n",
    "        # Loop for training data\n",
    "        for image_path in output[:int(output_limit+1)]:\n",
    "            trainlist.append(convert(\"{}{}/{}\".format(directory,klasse, image_path)))\n",
    "            trainclass.append(klasse)\n",
    "\n",
    "        # Loop for test data\n",
    "        for image_path in output[int(output_limit):200]:\n",
    "            validlist.append(convert(\"{}{}/{}\".format(directory,klasse, image_path)))\n",
    "            validclass.append(klasse)\n",
    "\n",
    "    trainlist = np.asarray(trainlist)\n",
    "    validlist = np.asarray(validlist)\n",
    "    train_oh = pd.get_dummies(pd.DataFrame(trainclass)).values\n",
    "    valid_oh = pd.get_dummies(pd.DataFrame(validclass)).values\n",
    "\n",
    "    return trainlist, validlist, train_oh, valid_oh"
   ]
  },
  {
   "cell_type": "code",
   "execution_count": 5,
   "metadata": {
    "collapsed": true
   },
   "outputs": [],
   "source": [
    "def prepare_data(x_train,x_valid,y_train,y_valid):\n",
    "    # prepare data\n",
    "    inputs_train = torch.tensor(x_train).float()\n",
    "    targets_train = torch.tensor(y_train).float()\n",
    "    inputs_test = torch.tensor(x_valid).float()\n",
    "    targets_test = torch.tensor(y_valid).float()\n",
    "\n",
    "\n",
    "    device = torch.device(\"cuda:0\" if cuda else \"cpu\")\n",
    "    print(\"Using device:\", device)\n",
    "\n",
    "    inputs_train = inputs_train.to(device)\n",
    "    targets_train = targets_train.to(device)\n",
    "    inputs_valid = inputs_test.to(device)\n",
    "    targets_valid = targets_test.to(device)\n",
    "    \n",
    "    return inputs_train,inputs_valid,targets_train,targets_valid\n"
   ]
  },
  {
   "cell_type": "code",
   "execution_count": 6,
   "metadata": {
    "collapsed": true
   },
   "outputs": [],
   "source": [
    "def training_loop(x_train,x_valid,y_train,y_valid,net,epochs=10,batch_size=64,valid_every=2):\n",
    "    \n",
    "        losses_train = pd.DataFrame(columns=['Epoch','Loss'])\n",
    "        losses_valid = pd.DataFrame(columns=['Epoch','Loss'])\n",
    "        \n",
    "        for epoch in range(epochs):\n",
    "            batch_loss = []\n",
    "\n",
    "            net.train()\n",
    "            for i in range(len(x_train) // batch_size):\n",
    "                batch = x_train[i * batch_size: (i + 1) * batch_size] \n",
    "                labels = y_train[i * batch_size: (i + 1) * batch_size] \n",
    "\n",
    "                # zero the parameter gradients\n",
    "                optimizer.zero_grad()\n",
    "\n",
    "                output = net(batch)\n",
    "                loss = criterion(output, labels)\n",
    "                loss.backward()\n",
    "                optimizer.step()\n",
    "\n",
    "                batch_loss.append(loss.item())\n",
    "\n",
    "\n",
    "            losses_train.loc[epoch] = [epoch+1,np.mean(batch_loss)]\n",
    "\n",
    "            if epoch%valid_every == 0:\n",
    "                batch_loss = []\n",
    "                net.eval()\n",
    "                for i in range(len(x_valid[:100]) // BATCH_SIZE):\n",
    "                    batch = x_valid[i * batch_size: (i + 1) * batch_size] \n",
    "                    labels = y_valid[i * batch_size: (i + 1) * batch_size] \n",
    "\n",
    "\n",
    "                    output = net(batch)\n",
    "                    loss = criterion(output, labels)\n",
    "\n",
    "                    batch_loss.append(loss.item())\n",
    "                    accuracy = accuracy_score(labels.cpu().detach().numpy(),(output.cpu().detach().numpy() > 0.5))\n",
    "\n",
    "                losses_valid.loc[epoch] = [epoch+1,np.mean(batch_loss)]    \n",
    "\n",
    "            pl.figure(figsize=(15,5))\n",
    "            pl.xlabel('Epochs')\n",
    "            pl.ylabel('Loss')\n",
    "            pl.title('Epoch #{}'.format(epoch))\n",
    "            pl.plot(losses_train['Epoch'],losses_train['Loss'], '-b', label='Train')\n",
    "            pl.plot(losses_valid['Epoch'],losses_valid['Loss'], '-r', label='Valid')\n",
    "            pl.legend()\n",
    "            pl.show()\n",
    "            print('Training loss: {:.2f}'.format(losses_train['Loss'].iloc[-1],))\n",
    "            print('Validation loss:{:.2f}\\tValidation accuracy: {:.2f}'.format(losses_valid['Loss'].iloc[-1],accuracy))\n",
    "            display.clear_output(wait=True)\n",
    "\n"
   ]
  },
  {
   "cell_type": "markdown",
   "metadata": {},
   "source": [
    "# Load dataset"
   ]
  },
  {
   "cell_type": "code",
   "execution_count": 7,
   "metadata": {},
   "outputs": [
    {
     "name": "stdout",
     "output_type": "stream",
     "text": [
      "Class: 0 - 435\t - pickup\n",
      "Class: 1 - 586\t - minivan\n",
      "Class: 2 - 258\t - yellow\n",
      "Class: 3 - 4817\t - white\n",
      "Class: 4 - 414\t - red\n",
      "Class: 5 - 742\t - blue\n",
      "Class: 6 - 1158\t - black\n",
      "\n",
      "\n",
      "\n",
      "Class: 0 - 160/435\t - pickup\n",
      "Class: 1 - 160/586\t - minivan\n",
      "Class: 2 - 160/258\t - yellow\n",
      "Class: 3 - 160/4817\t - white\n",
      "Class: 4 - 160/414\t - red\n",
      "Class: 5 - 160/742\t - blue\n",
      "Class: 6 - 160/1158\t - black\n"
     ]
    }
   ],
   "source": [
    "# init functions\n",
    "directory=\"./dataset_v2/root/train/classes/\"\n",
    "classes = [x[1] for x in os.walk(directory)][0]\n",
    "classes.sort()\n",
    "\n",
    "#protoype\n",
    "#classes = [classes[22],classes[19] ]\n",
    "classes = [classes[22],classes[19],'yellow','white','red','blue','black']\n",
    "\n",
    "\n",
    "#run helper functions\n",
    "countlist = get_countlist(classes,directory)\n",
    "dummy = pd.get_dummies(pd.DataFrame(classes))\n",
    "\n",
    "print(\"\\n\\n\")\n",
    "\n",
    "# get dataset\n",
    "x_train, x_valid, y_train, y_valid = generate_datasets(directory,class_limit = 7,split_ratio = 0.8)  "
   ]
  },
  {
   "cell_type": "markdown",
   "metadata": {},
   "source": [
    "# Define neural network\n",
    "## Prepare pretrained resnet"
   ]
  },
  {
   "cell_type": "code",
   "execution_count": 8,
   "metadata": {
    "collapsed": true
   },
   "outputs": [],
   "source": [
    "#define the model\n",
    "model_conv = models.resnet50(pretrained='imagenet')\n",
    "\n",
    "# disable autograd for resnet\n",
    "for param in model_conv.parameters():\n",
    "    param.requires_grad = False\n",
    "    \n",
    "# Change fully connected layer to match paper (autograd is default on new layers)\n",
    "num_ftrs = model_conv.fc.in_features\n",
    "model_conv.fc = nn.Linear(num_ftrs, 1024)\n",
    "\n",
    "device = torch.device(\"cuda\" if torch.cuda.is_available() else \"cpu\")\n",
    "model_conv = model_conv.to(device)"
   ]
  },
  {
   "cell_type": "markdown",
   "metadata": {},
   "source": [
    "## Define neural network"
   ]
  },
  {
   "cell_type": "code",
   "execution_count": 9,
   "metadata": {},
   "outputs": [],
   "source": [
    "class Net(nn.Module):\n",
    "\n",
    "    def __init__(self):\n",
    "        super(Net, self).__init__()  \n",
    "        # input layer\n",
    "        output_nodes = y_valid.shape[1]\n",
    "        self.output = nn.Linear(1024,output_nodes)\n",
    "       \n",
    "\n",
    "    def forward(self, x):\n",
    "        x = model_conv(x)\n",
    "        x = F.relu(x)\n",
    "        x = self.output(x)\n",
    "        x = F.softmax(x)\n",
    "        return x\n",
    "\n",
    "\n",
    "net = Net()\n",
    "\n",
    "cuda = torch.cuda.is_available()\n",
    "if cuda:\n",
    "    net.cuda()"
   ]
  },
  {
   "cell_type": "markdown",
   "metadata": {},
   "source": [
    "# Train"
   ]
  },
  {
   "cell_type": "code",
   "execution_count": 10,
   "metadata": {},
   "outputs": [],
   "source": [
    "#epochs = 30\n",
    "#BATCH_SIZE= 64\n",
    "#valid_every = 2\n",
    "#criterion = nn.MSELoss()  # Your code here!\n",
    "#optimizer = optim.SGD(net.parameters(), lr=0.005, momentum=0.9) # Your code here!\n",
    "\n",
    "#x_Ttrain,x_Tvalid,y_Ttrain,y_Tvalid = prepare_data(x_train,x_valid,y_train,y_valid)\n"
   ]
  },
  {
   "cell_type": "code",
   "execution_count": 11,
   "metadata": {},
   "outputs": [],
   "source": [
    "#now = datetime.datetime.now()\n",
    "#training_loop(x_Ttrain,x_Tvalid,y_Ttrain,y_Tvalid,net,epochs=10,batch_size=64,valid_every=2)\n",
    "#print(datetime.datetime.now()-now)"
   ]
  },
  {
   "cell_type": "code",
   "execution_count": 13,
   "metadata": {},
   "outputs": [
    {
     "data": {
      "image/png": "[encoded data removed]",
      "text/plain": [
       "<Figure size 1080x360 with 1 Axes>"
      ]
     },
     "metadata": {},
     "output_type": "display_data"
    },
    {
     "name": "stdout",
     "output_type": "stream",
     "text": [
      "Training loss: 0.11\n",
      "Validation loss:0.12\tValidation accuracy: 0.00\n",
      "\n",
      "\t\t\t\t\tTraining time 0:00:03.858675\n"
     ]
    }
   ],
   "source": [
    "%matplotlib inline\n",
    "epochs = 10\n",
    "BATCH_SIZE= 64\n",
    "valid_every = 2\n",
    "criterion = nn.MSELoss()  # Your code here!\n",
    "optimizer = optim.SGD(net.parameters(), lr=0.005, momentum=0.9) # Your code here!\n",
    "\n",
    "# prepare data\n",
    "inputs_train = torch.tensor(x_train).float()\n",
    "targets_train = torch.tensor(y_train).float()\n",
    "inputs_valid = torch.tensor(x_valid).float()\n",
    "targets_valid = torch.tensor(y_valid).float()\n",
    "\n",
    "\n",
    "device = torch.device(\"cuda:0\" if cuda else \"cpu\")\n",
    "print(\"Using device:\", device)\n",
    "\n",
    "inputs_train = inputs_train.to(device)\n",
    "targets_train = targets_train.to(device)\n",
    "inputs_valid = inputs_valid.to(device)\n",
    "targets_valid = targets_valid.to(device)\n",
    "\n",
    "losses_train = pd.DataFrame(columns=['Epoch','Loss'])\n",
    "losses_valid = pd.DataFrame(columns=['Epoch','Loss'])\n",
    "\n",
    "accuracy = 0.01\n",
    "\n",
    "now = datetime.datetime.now()\n",
    "\n",
    "for epoch in range(epochs):\n",
    "    batch_loss = []\n",
    "   \n",
    "    net.train()\n",
    "    for i in range(len(inputs_train[:100]) // BATCH_SIZE):\n",
    "        batch = inputs_train[i * BATCH_SIZE: (i + 1) * BATCH_SIZE] \n",
    "        labels = targets_train[i * BATCH_SIZE: (i + 1) * BATCH_SIZE] \n",
    "        \n",
    "        # zero the parameter gradients\n",
    "        optimizer.zero_grad()\n",
    "        \n",
    "        output = net(batch)\n",
    "        #_, pred = torch.max(output.data, 1)\n",
    "        loss = criterion(output, labels)\n",
    "        loss.backward()\n",
    "        optimizer.step()\n",
    "        \n",
    "        batch_loss.append(loss.item())\n",
    "        \n",
    "       \n",
    "    losses_train.loc[epoch] = [epoch+1,np.mean(batch_loss)]\n",
    "    \n",
    "    if epoch%valid_every == 0 or epoch == max(range(epochs)):\n",
    "        batch_loss = []\n",
    "        net.eval()\n",
    "        for i in range(len(inputs_valid[:100]) // BATCH_SIZE):\n",
    "            batch = inputs_valid[i * BATCH_SIZE: (i + 1) * BATCH_SIZE] \n",
    "            labels = targets_valid[i * BATCH_SIZE: (i + 1) * BATCH_SIZE] \n",
    "\n",
    "\n",
    "            output = net(batch)\n",
    "            loss = criterion(output, labels)\n",
    "\n",
    "            batch_loss.append(loss.item())\n",
    "            accuracy = accuracy_score(labels.cpu().detach().numpy(),(output.cpu().detach().numpy() > 0.5))\n",
    "        \n",
    "        losses_valid.loc[epoch] = [epoch+1,np.mean(batch_loss)]    \n",
    "    \n",
    "    pl.figure(figsize=(15,5))\n",
    "    pl.xlabel('Epochs')\n",
    "    pl.ylabel('Loss')\n",
    "    pl.title('Epoch #{}'.format(epoch))\n",
    "    pl.plot(losses_train['Epoch'],losses_train['Loss'], '-b', label='Train')\n",
    "    pl.plot(losses_valid['Epoch'],losses_valid['Loss'], '-r', label='Valid')\n",
    "    pl.legend()\n",
    "    pl.show()\n",
    "    print('Training loss: {:.2f}'.format(losses_train['Loss'].iloc[-1],))\n",
    "    print('Validation loss:{:.2f}\\tValidation accuracy: {:.2f}'.format(losses_valid['Loss'].iloc[-1],accuracy))\n",
    "    display.clear_output(wait=True)\n",
    "    \n",
    "\n",
    "    \n",
    "pl.figure(figsize=(15,5))\n",
    "pl.xlabel('Epochs')\n",
    "pl.ylabel('Loss')\n",
    "pl.title('Epoch #{}'.format(epoch))\n",
    "pl.plot(losses_train['Epoch'],losses_train['Loss'], '-b', label='Train')\n",
    "pl.plot(losses_valid['Epoch'],losses_valid['Loss'], '-r', label='Valid')\n",
    "pl.legend()\n",
    "pl.show()\n",
    "\n",
    "print('Training loss: {:.2f}'.format(losses_train['Loss'].iloc[-1],))\n",
    "print('Validation loss:{:.2f}\\tValidation accuracy: {:.2f}'.format(losses_valid['Loss'].iloc[-1],accuracy))\n",
    "\n",
    "print(\"\\n\\t\\t\\t\\t\\tTraining time {}\".format(datetime.datetime.now()-now))"
   ]
  }
 ],
 "metadata": {
  "kernelspec": {
   "display_name": "Python 3",
   "language": "python",
   "name": "python3"
  },
  "language_info": {
   "codemirror_mode": {
    "name": "ipython",
    "version": 3
   },
   "file_extension": ".py",
   "mimetype": "text/x-python",
   "name": "python",
   "nbconvert_exporter": "python",
   "pygments_lexer": "ipython3",
   "version": "3.6.3"
  }
 },
 "nbformat": 4,
 "nbformat_minor": 2
}
