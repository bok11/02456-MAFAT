{
 "cells": [
  {
   "cell_type": "markdown",
   "metadata": {},
   "source": [
    "# Get class names"
   ]
  },
  {
   "cell_type": "code",
   "execution_count": 8,
   "metadata": {},
   "outputs": [
    {
     "data": {
      "text/html": [
       "<div>\n",
       "<style scoped>\n",
       "    .dataframe tbody tr th:only-of-type {\n",
       "        vertical-align: middle;\n",
       "    }\n",
       "\n",
       "    .dataframe tbody tr th {\n",
       "        vertical-align: top;\n",
       "    }\n",
       "\n",
       "    .dataframe thead th {\n",
       "        text-align: right;\n",
       "    }\n",
       "</style>\n",
       "<table border=\"1\" class=\"dataframe\">\n",
       "  <thead>\n",
       "    <tr style=\"text-align: right;\">\n",
       "      <th></th>\n",
       "      <th>0_ac_vents</th>\n",
       "      <th>0_black</th>\n",
       "      <th>0_blue</th>\n",
       "      <th>0_bus</th>\n",
       "      <th>0_cement_mixer</th>\n",
       "      <th>0_crane_truck</th>\n",
       "      <th>0_dedicated_agricultural_vehicle</th>\n",
       "      <th>0_enclosed_box</th>\n",
       "      <th>0_enclosed_cab</th>\n",
       "      <th>0_flatbed</th>\n",
       "      <th>...</th>\n",
       "      <th>0_small_vehicle</th>\n",
       "      <th>0_soft_shell_box</th>\n",
       "      <th>0_spare_wheel</th>\n",
       "      <th>0_sunroof</th>\n",
       "      <th>0_tanker</th>\n",
       "      <th>0_truck</th>\n",
       "      <th>0_van</th>\n",
       "      <th>0_white</th>\n",
       "      <th>0_wrecked</th>\n",
       "      <th>0_yellow</th>\n",
       "    </tr>\n",
       "  </thead>\n",
       "  <tbody>\n",
       "    <tr>\n",
       "      <th>0</th>\n",
       "      <td>1</td>\n",
       "      <td>0</td>\n",
       "      <td>0</td>\n",
       "      <td>0</td>\n",
       "      <td>0</td>\n",
       "      <td>0</td>\n",
       "      <td>0</td>\n",
       "      <td>0</td>\n",
       "      <td>0</td>\n",
       "      <td>0</td>\n",
       "      <td>...</td>\n",
       "      <td>0</td>\n",
       "      <td>0</td>\n",
       "      <td>0</td>\n",
       "      <td>0</td>\n",
       "      <td>0</td>\n",
       "      <td>0</td>\n",
       "      <td>0</td>\n",
       "      <td>0</td>\n",
       "      <td>0</td>\n",
       "      <td>0</td>\n",
       "    </tr>\n",
       "    <tr>\n",
       "      <th>1</th>\n",
       "      <td>0</td>\n",
       "      <td>1</td>\n",
       "      <td>0</td>\n",
       "      <td>0</td>\n",
       "      <td>0</td>\n",
       "      <td>0</td>\n",
       "      <td>0</td>\n",
       "      <td>0</td>\n",
       "      <td>0</td>\n",
       "      <td>0</td>\n",
       "      <td>...</td>\n",
       "      <td>0</td>\n",
       "      <td>0</td>\n",
       "      <td>0</td>\n",
       "      <td>0</td>\n",
       "      <td>0</td>\n",
       "      <td>0</td>\n",
       "      <td>0</td>\n",
       "      <td>0</td>\n",
       "      <td>0</td>\n",
       "      <td>0</td>\n",
       "    </tr>\n",
       "    <tr>\n",
       "      <th>2</th>\n",
       "      <td>0</td>\n",
       "      <td>0</td>\n",
       "      <td>1</td>\n",
       "      <td>0</td>\n",
       "      <td>0</td>\n",
       "      <td>0</td>\n",
       "      <td>0</td>\n",
       "      <td>0</td>\n",
       "      <td>0</td>\n",
       "      <td>0</td>\n",
       "      <td>...</td>\n",
       "      <td>0</td>\n",
       "      <td>0</td>\n",
       "      <td>0</td>\n",
       "      <td>0</td>\n",
       "      <td>0</td>\n",
       "      <td>0</td>\n",
       "      <td>0</td>\n",
       "      <td>0</td>\n",
       "      <td>0</td>\n",
       "      <td>0</td>\n",
       "    </tr>\n",
       "    <tr>\n",
       "      <th>3</th>\n",
       "      <td>0</td>\n",
       "      <td>0</td>\n",
       "      <td>0</td>\n",
       "      <td>1</td>\n",
       "      <td>0</td>\n",
       "      <td>0</td>\n",
       "      <td>0</td>\n",
       "      <td>0</td>\n",
       "      <td>0</td>\n",
       "      <td>0</td>\n",
       "      <td>...</td>\n",
       "      <td>0</td>\n",
       "      <td>0</td>\n",
       "      <td>0</td>\n",
       "      <td>0</td>\n",
       "      <td>0</td>\n",
       "      <td>0</td>\n",
       "      <td>0</td>\n",
       "      <td>0</td>\n",
       "      <td>0</td>\n",
       "      <td>0</td>\n",
       "    </tr>\n",
       "    <tr>\n",
       "      <th>4</th>\n",
       "      <td>0</td>\n",
       "      <td>0</td>\n",
       "      <td>0</td>\n",
       "      <td>0</td>\n",
       "      <td>1</td>\n",
       "      <td>0</td>\n",
       "      <td>0</td>\n",
       "      <td>0</td>\n",
       "      <td>0</td>\n",
       "      <td>0</td>\n",
       "      <td>...</td>\n",
       "      <td>0</td>\n",
       "      <td>0</td>\n",
       "      <td>0</td>\n",
       "      <td>0</td>\n",
       "      <td>0</td>\n",
       "      <td>0</td>\n",
       "      <td>0</td>\n",
       "      <td>0</td>\n",
       "      <td>0</td>\n",
       "      <td>0</td>\n",
       "    </tr>\n",
       "  </tbody>\n",
       "</table>\n",
       "<p>5 rows × 37 columns</p>\n",
       "</div>"
      ],
      "text/plain": [
       "   0_ac_vents  0_black  0_blue  0_bus  0_cement_mixer  0_crane_truck  \\\n",
       "0           1        0       0      0               0              0   \n",
       "1           0        1       0      0               0              0   \n",
       "2           0        0       1      0               0              0   \n",
       "3           0        0       0      1               0              0   \n",
       "4           0        0       0      0               1              0   \n",
       "\n",
       "   0_dedicated_agricultural_vehicle  0_enclosed_box  0_enclosed_cab  \\\n",
       "0                                 0               0               0   \n",
       "1                                 0               0               0   \n",
       "2                                 0               0               0   \n",
       "3                                 0               0               0   \n",
       "4                                 0               0               0   \n",
       "\n",
       "   0_flatbed    ...     0_small_vehicle  0_soft_shell_box  0_spare_wheel  \\\n",
       "0          0    ...                   0                 0              0   \n",
       "1          0    ...                   0                 0              0   \n",
       "2          0    ...                   0                 0              0   \n",
       "3          0    ...                   0                 0              0   \n",
       "4          0    ...                   0                 0              0   \n",
       "\n",
       "   0_sunroof  0_tanker  0_truck  0_van  0_white  0_wrecked  0_yellow  \n",
       "0          0         0        0      0        0          0         0  \n",
       "1          0         0        0      0        0          0         0  \n",
       "2          0         0        0      0        0          0         0  \n",
       "3          0         0        0      0        0          0         0  \n",
       "4          0         0        0      0        0          0         0  \n",
       "\n",
       "[5 rows x 37 columns]"
      ]
     },
     "execution_count": 8,
     "metadata": {},
     "output_type": "execute_result"
    }
   ],
   "source": [
    "import os\n",
    "import numpy as np\n",
    "import pandas as pd\n",
    "from PIL import Image\n",
    "\n",
    "classes = [x[1] for x in os.walk(\"dataset_v2\\\\root\\\\train\")][1]\n",
    "dummy = pd.get_dummies(pd.DataFrame(classes))\n",
    "dummy.head()"
   ]
  },
  {
   "cell_type": "markdown",
   "metadata": {},
   "source": [
    "# Resize image and convert to np array"
   ]
  },
  {
   "cell_type": "code",
   "execution_count": 48,
   "metadata": {
    "scrolled": true
   },
   "outputs": [],
   "source": [
    "def convert(image_path):\n",
    "    target_shape = (224, 224)\n",
    "\n",
    "    return np.asarray(Image.open(image_path).resize(target_shape))[:,:,:3]\n",
    "\n",
    "def get_countlist():\n",
    "    countlist = []\n",
    "\n",
    "    for i, klasse in enumerate(classes):\n",
    "        output = os.listdir(\".\\\\dataset_v2\\\\root\\\\train\\\\classes\\\\{}\".format(klasse))    \n",
    "        path, dirs, files = next(os.walk(\".\\\\dataset_v2\\\\root\\\\train\\\\classes\\\\{}\".format(klasse)))\n",
    "        file_count = len(files)\n",
    "        print(f\"Class: {i} - {file_count}\\t - {classes[i]}\")\n",
    "        countlist.append(file_count)\n",
    "    \n",
    "    return countlist"
   ]
  },
  {
   "cell_type": "markdown",
   "metadata": {},
   "source": [
    "# Set countlist"
   ]
  },
  {
   "cell_type": "code",
   "execution_count": 49,
   "metadata": {},
   "outputs": [
    {
     "name": "stdout",
     "output_type": "stream",
     "text": [
      "Class: 0 - 72\t - ac_vents\n",
      "Class: 1 - 1158\t - black\n",
      "Class: 2 - 742\t - blue\n",
      "Class: 3 - 53\t - bus\n",
      "Class: 4 - 17\t - cement_mixer\n",
      "Class: 5 - 16\t - crane_truck\n",
      "Class: 6 - 5\t - dedicated_agricultural_vehicle\n",
      "Class: 7 - 133\t - enclosed_box\n",
      "Class: 8 - 172\t - enclosed_cab\n",
      "Class: 9 - 77\t - flatbed\n",
      "Class: 10 - 97\t - green\n",
      "Class: 11 - 4\t - harnessed_to_a_cart\n",
      "Class: 12 - 3080\t - hatchback\n",
      "Class: 13 - 865\t - jeep\n",
      "Class: 14 - 2\t - ladder\n",
      "Class: 15 - 506\t - large_vehicle\n",
      "Class: 16 - 164\t - light_truck\n",
      "Class: 17 - 383\t - luggage_carrier\n",
      "Class: 18 - 25\t - minibus\n",
      "Class: 19 - 586\t - minivan\n",
      "Class: 20 - 256\t - open_cargo_area\n",
      "Class: 21 - 626\t - other\n",
      "Class: 22 - 435\t - pickup\n",
      "Class: 23 - 44\t - prime_mover\n",
      "Class: 24 - 414\t - red\n",
      "Class: 25 - 5783\t - sedan\n",
      "Class: 26 - 3505\t - silver_grey\n",
      "Class: 27 - 11111\t - small_vehicle\n",
      "Class: 28 - 30\t - soft_shell_box\n",
      "Class: 29 - 181\t - spare_wheel\n",
      "Class: 30 - 853\t - sunroof\n",
      "Class: 31 - 3\t - tanker\n",
      "Class: 32 - 179\t - truck\n",
      "Class: 33 - 362\t - van\n",
      "Class: 34 - 4817\t - white\n",
      "Class: 35 - 881\t - wrecked\n",
      "Class: 36 - 258\t - yellow\n"
     ]
    }
   ],
   "source": [
    "countlist = get_countlist()"
   ]
  },
  {
   "cell_type": "code",
   "execution_count": 50,
   "metadata": {},
   "outputs": [
    {
     "name": "stdout",
     "output_type": "stream",
     "text": [
      "Class: 0 - 57/72\t - ac_vents\n",
      "Class: 1 - 926/1158\t - black\n",
      "Class: 2 - 593/742\t - blue\n",
      "Class: 3 - 42/53\t - bus\n",
      "Class: 4 - 13/17\t - cement_mixer\n",
      "Class: 5 - 12/16\t - crane_truck\n",
      "Class: 6 - 4/5\t - dedicated_agricultural_vehicle\n",
      "Class: 7 - 106/133\t - enclosed_box\n",
      "Class: 8 - 137/172\t - enclosed_cab\n",
      "Class: 9 - 61/77\t - flatbed\n"
     ]
    }
   ],
   "source": [
    "def generate_datasets():\n",
    "    class_limit = 10 # max 37\n",
    "    output_limit = 20\n",
    "    split_ratio = 0.8 # training ratio\n",
    "\n",
    "    trainlist = []\n",
    "    trainclass = []\n",
    "    testlist = []\n",
    "    testclass = []\n",
    "\n",
    "    for i, klasse in enumerate(classes[:class_limit]):\n",
    "        output = os.listdir(\".\\\\dataset_v2\\\\root\\\\train\\\\classes\\\\{}\".format(klasse))    \n",
    "        output_limit = countlist[i] * split_ratio \n",
    "\n",
    "        print(f\"Class: {i} - {int(output_limit)}/{countlist[i]}\\t - {classes[i]}\")\n",
    "\n",
    "        # Loop for training data\n",
    "        for image_path in output[:int(output_limit)]:\n",
    "            trainlist.append(convert(\".\\\\dataset_v2\\\\root\\\\train\\\\classes\\\\{}\\\\{}\".format(klasse, image_path)))\n",
    "            trainclass.append(klasse)\n",
    "\n",
    "        # Loop for test data\n",
    "        for image_path in output[int(output_limit):]:\n",
    "            testlist.append(convert(\".\\\\dataset_v2\\\\root\\\\train\\\\classes\\\\{}\\\\{}\".format(klasse, image_path)))\n",
    "            testclass.append(klasse)\n",
    "\n",
    "    trainlist = np.asarray(trainlist)\n",
    "    testlist = np.asarray(testlist)\n",
    "    train_oh = pd.get_dummies(pd.DataFrame(trainclass)).values\n",
    "    test_oh = pd.get_dummies(pd.DataFrame(testclass)).values\n",
    "\n",
    "    return trainlist, testlist, train_oh, test_oh\n",
    "    \n",
    "x_train, x_test, y_train, y_test = generate_datasets()    "
   ]
  },
  {
   "cell_type": "code",
   "execution_count": 46,
   "metadata": {},
   "outputs": [
    {
     "name": "stdout",
     "output_type": "stream",
     "text": [
      "[1 0 0 0 0 0 0]\n"
     ]
    },
    {
     "data": {
      "image/png": "[encoded data removed]",
      "text/plain": [
       "<PIL.Image.Image image mode=RGB size=200x200 at 0x21ACDE571D0>"
      ]
     },
     "execution_count": 46,
     "metadata": {},
     "output_type": "execute_result"
    }
   ],
   "source": [
    "i = 45\n",
    "print(y_train[i])\n",
    "Image.fromarray(x_train[i], 'RGB')"
   ]
  },
  {
   "cell_type": "code",
   "execution_count": 52,
   "metadata": {},
   "outputs": [
    {
     "name": "stdout",
     "output_type": "stream",
     "text": [
      "[0 0 0 0 0 0 0 0 1 0]\n"
     ]
    },
    {
     "data": {
      "image/png": "[encoded data removed]",
      "text/plain": [
       "<PIL.Image.Image image mode=RGB size=224x224 at 0x21ACDE57DA0>"
      ]
     },
     "execution_count": 52,
     "metadata": {},
     "output_type": "execute_result"
    }
   ],
   "source": [
    "i = 450\n",
    "print(y_test[i])\n",
    "Image.fromarray(x_test[i], 'RGB')"
   ]
  },
  {
   "cell_type": "code",
   "execution_count": null,
   "metadata": {},
   "outputs": [],
   "source": []
  }
 ],
 "metadata": {
  "kernelspec": {
   "display_name": "Python 3",
   "language": "python",
   "name": "python3"
  },
  "language_info": {
   "codemirror_mode": {
    "name": "ipython",
    "version": 3
   },
   "file_extension": ".py",
   "mimetype": "text/x-python",
   "name": "python",
   "nbconvert_exporter": "python",
   "pygments_lexer": "ipython3",
   "version": "3.6.4"
  }
 },
 "nbformat": 4,
 "nbformat_minor": 2
}
