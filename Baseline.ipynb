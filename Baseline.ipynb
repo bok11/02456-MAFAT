{
 "cells": [
  {
   "cell_type": "code",
   "execution_count": 4,
   "metadata": {
    "collapsed": true
   },
   "outputs": [],
   "source": [
    "import torch\n",
    "from torch.autograd import Variable\n",
    "from torch.nn.parameter import Parameter\n",
    "import torchvision.transforms as transforms\n",
    "import torch.nn as nn\n",
    "import torch.nn.functional as F\n",
    "import torch.optim as optim\n",
    "import torch.nn.init as init\n",
    "import torchvision\n",
    "import torchvision.models as models\n",
    "from torch.utils.data import Dataset, DataLoader\n",
    "from torch.utils.data.sampler import SubsetRandomSampler"
   ]
  },
  {
   "cell_type": "code",
   "execution_count": 5,
   "metadata": {
    "collapsed": true
   },
   "outputs": [],
   "source": [
    "import os\n",
    "import numpy as np\n",
    "import pandas as pd\n",
    "import random\n",
    "from PIL import Image\n",
    "from sklearn.metrics import average_precision_score\n",
    "import pylab as pl\n",
    "from IPython import display\n",
    "from skimage.transform import resize\n",
    "import datetime"
   ]
  },
  {
   "cell_type": "code",
   "execution_count": 6,
   "metadata": {},
   "outputs": [],
   "source": [
    "class FineGrainedDataset(Dataset):\n",
    "    \n",
    "    def __init__(self, csv_path,picture_path, picturesize, transform=True):\n",
    "        \"\"\"\n",
    "        Construct Fine Grained Dataset.\n",
    "        \n",
    "        Args\n",
    "            csv_path: Path to CSV file.\n",
    "            picturesize: Dimensions of sample images.\n",
    "            transform: \n",
    "        \"\"\"\n",
    "        self.transform = transform\n",
    "        self.picturesize = picturesize\n",
    "        \n",
    "        # construct dataframe with onehot notation\n",
    "        self.df = pd.get_dummies(pd.read_csv(csv_path))\n",
    "        # create ID column with image file names\n",
    "        self.df['id'] = self.df['image_id'].apply(lambda x: str(x)) + \"_\" + self.df['tag_id'].apply(lambda x: str(x)) + \".png\"\n",
    "        # only use class columns and id column\n",
    "        self.df = self.df.iloc[:, 10:]\n",
    "        \n",
    "        #replace -1 with 0\n",
    "        self.df = self.df.replace(to_replace=-1, value=0)\n",
    "        \n",
    "        self.path = picture_path\n",
    "            \n",
    "        \n",
    "    def __getitem__(self, idx):\n",
    "        \"\"\"\n",
    "        Support integer indexing on dataset (range 0 to len(self)).\n",
    "        \"\"\"\n",
    "        sample_id = self.df['id'].iloc[idx]\n",
    "        \n",
    "        # get target values for sample\n",
    "        targets = self.df.loc[idx, self.df.columns != 'id'].values.astype('float32')\n",
    "        \n",
    "        # get sample image\n",
    "        image = np.asarray(Image.open(self.path + sample_id))\n",
    "        \n",
    "        # transform sample\n",
    "        if self.transform:\n",
    "            img = image\n",
    "            img_normalized = np.copy(img)\n",
    "            img_normalized = img_normalized / 255.\n",
    "            \n",
    "            img_resized = resize(img_normalized, output_shape=(self.picturesize,self.picturesize), mode='reflect', anti_aliasing=True)[:,:,:3]\n",
    "            \n",
    "            sample = {'id': sample_id, 'targets': torch.from_numpy(targets), 'image': torch.from_numpy(img_resized)}\n",
    "        else:\n",
    "            sample = {'id': sample_id, 'targets': targets, 'image': image}\n",
    "        \n",
    "        return sample\n",
    "    \n",
    "    def __len__(self):\n",
    "        \"\"\"\n",
    "        Get length of dataset.\n",
    "        \"\"\"\n",
    "        return len(self.df)\n",
    "    "
   ]
  },
  {
   "cell_type": "code",
   "execution_count": 7,
   "metadata": {},
   "outputs": [
    {
     "data": {
      "text/html": [
       "<div>\n",
       "<style>\n",
       "    .dataframe thead tr:only-child th {\n",
       "        text-align: right;\n",
       "    }\n",
       "\n",
       "    .dataframe thead th {\n",
       "        text-align: left;\n",
       "    }\n",
       "\n",
       "    .dataframe tbody tr th {\n",
       "        vertical-align: top;\n",
       "    }\n",
       "</style>\n",
       "<table border=\"1\" class=\"dataframe\">\n",
       "  <thead>\n",
       "    <tr style=\"text-align: right;\">\n",
       "      <th></th>\n",
       "      <th>sunroof</th>\n",
       "      <th>luggage_carrier</th>\n",
       "      <th>open_cargo_area</th>\n",
       "      <th>enclosed_cab</th>\n",
       "      <th>spare_wheel</th>\n",
       "      <th>wrecked</th>\n",
       "      <th>flatbed</th>\n",
       "      <th>ladder</th>\n",
       "      <th>enclosed_box</th>\n",
       "      <th>soft_shell_box</th>\n",
       "      <th>...</th>\n",
       "      <th>sub_class_van</th>\n",
       "      <th>color_black</th>\n",
       "      <th>color_blue</th>\n",
       "      <th>color_green</th>\n",
       "      <th>color_other</th>\n",
       "      <th>color_red</th>\n",
       "      <th>color_silver/grey</th>\n",
       "      <th>color_white</th>\n",
       "      <th>color_yellow</th>\n",
       "      <th>id</th>\n",
       "    </tr>\n",
       "  </thead>\n",
       "  <tbody>\n",
       "    <tr>\n",
       "      <th>0</th>\n",
       "      <td>0</td>\n",
       "      <td>0</td>\n",
       "      <td>0</td>\n",
       "      <td>0</td>\n",
       "      <td>0</td>\n",
       "      <td>0</td>\n",
       "      <td>0</td>\n",
       "      <td>0</td>\n",
       "      <td>0</td>\n",
       "      <td>0</td>\n",
       "      <td>...</td>\n",
       "      <td>0</td>\n",
       "      <td>1</td>\n",
       "      <td>0</td>\n",
       "      <td>0</td>\n",
       "      <td>0</td>\n",
       "      <td>0</td>\n",
       "      <td>0</td>\n",
       "      <td>0</td>\n",
       "      <td>0</td>\n",
       "      <td>16490_15036.png</td>\n",
       "    </tr>\n",
       "    <tr>\n",
       "      <th>1</th>\n",
       "      <td>0</td>\n",
       "      <td>0</td>\n",
       "      <td>0</td>\n",
       "      <td>0</td>\n",
       "      <td>0</td>\n",
       "      <td>0</td>\n",
       "      <td>0</td>\n",
       "      <td>0</td>\n",
       "      <td>1</td>\n",
       "      <td>0</td>\n",
       "      <td>...</td>\n",
       "      <td>0</td>\n",
       "      <td>0</td>\n",
       "      <td>0</td>\n",
       "      <td>0</td>\n",
       "      <td>0</td>\n",
       "      <td>1</td>\n",
       "      <td>0</td>\n",
       "      <td>0</td>\n",
       "      <td>0</td>\n",
       "      <td>16490_31658.png</td>\n",
       "    </tr>\n",
       "    <tr>\n",
       "      <th>2</th>\n",
       "      <td>0</td>\n",
       "      <td>0</td>\n",
       "      <td>0</td>\n",
       "      <td>0</td>\n",
       "      <td>0</td>\n",
       "      <td>0</td>\n",
       "      <td>0</td>\n",
       "      <td>0</td>\n",
       "      <td>0</td>\n",
       "      <td>0</td>\n",
       "      <td>...</td>\n",
       "      <td>0</td>\n",
       "      <td>0</td>\n",
       "      <td>0</td>\n",
       "      <td>0</td>\n",
       "      <td>0</td>\n",
       "      <td>1</td>\n",
       "      <td>0</td>\n",
       "      <td>0</td>\n",
       "      <td>0</td>\n",
       "      <td>17122_26971.png</td>\n",
       "    </tr>\n",
       "    <tr>\n",
       "      <th>3</th>\n",
       "      <td>0</td>\n",
       "      <td>0</td>\n",
       "      <td>0</td>\n",
       "      <td>0</td>\n",
       "      <td>0</td>\n",
       "      <td>0</td>\n",
       "      <td>0</td>\n",
       "      <td>0</td>\n",
       "      <td>0</td>\n",
       "      <td>0</td>\n",
       "      <td>...</td>\n",
       "      <td>0</td>\n",
       "      <td>0</td>\n",
       "      <td>0</td>\n",
       "      <td>0</td>\n",
       "      <td>0</td>\n",
       "      <td>0</td>\n",
       "      <td>1</td>\n",
       "      <td>0</td>\n",
       "      <td>0</td>\n",
       "      <td>12193_19301.png</td>\n",
       "    </tr>\n",
       "    <tr>\n",
       "      <th>4</th>\n",
       "      <td>0</td>\n",
       "      <td>0</td>\n",
       "      <td>0</td>\n",
       "      <td>0</td>\n",
       "      <td>0</td>\n",
       "      <td>0</td>\n",
       "      <td>1</td>\n",
       "      <td>0</td>\n",
       "      <td>0</td>\n",
       "      <td>0</td>\n",
       "      <td>...</td>\n",
       "      <td>0</td>\n",
       "      <td>0</td>\n",
       "      <td>0</td>\n",
       "      <td>0</td>\n",
       "      <td>0</td>\n",
       "      <td>1</td>\n",
       "      <td>0</td>\n",
       "      <td>0</td>\n",
       "      <td>0</td>\n",
       "      <td>12193_35906.png</td>\n",
       "    </tr>\n",
       "  </tbody>\n",
       "</table>\n",
       "<p>5 rows × 38 columns</p>\n",
       "</div>"
      ],
      "text/plain": [
       "   sunroof  luggage_carrier  open_cargo_area  enclosed_cab  spare_wheel  \\\n",
       "0        0                0                0             0            0   \n",
       "1        0                0                0             0            0   \n",
       "2        0                0                0             0            0   \n",
       "3        0                0                0             0            0   \n",
       "4        0                0                0             0            0   \n",
       "\n",
       "   wrecked  flatbed  ladder  enclosed_box  soft_shell_box       ...         \\\n",
       "0        0        0       0             0               0       ...          \n",
       "1        0        0       0             1               0       ...          \n",
       "2        0        0       0             0               0       ...          \n",
       "3        0        0       0             0               0       ...          \n",
       "4        0        1       0             0               0       ...          \n",
       "\n",
       "   sub_class_van  color_black  color_blue  color_green  color_other  \\\n",
       "0              0            1           0            0            0   \n",
       "1              0            0           0            0            0   \n",
       "2              0            0           0            0            0   \n",
       "3              0            0           0            0            0   \n",
       "4              0            0           0            0            0   \n",
       "\n",
       "   color_red  color_silver/grey  color_white  color_yellow               id  \n",
       "0          0                  0            0             0  16490_15036.png  \n",
       "1          1                  0            0             0  16490_31658.png  \n",
       "2          1                  0            0             0  17122_26971.png  \n",
       "3          0                  1            0             0  12193_19301.png  \n",
       "4          1                  0            0             0  12193_35906.png  \n",
       "\n",
       "[5 rows x 38 columns]"
      ]
     },
     "execution_count": 7,
     "metadata": {},
     "output_type": "execute_result"
    }
   ],
   "source": [
    "dataset = FineGrainedDataset(csv_path='./dataset_v2/train.csv',picture_path='./dataset_v2/root/train/cropped/', picturesize=224, transform=True)\n",
    "dataset.df.head()"
   ]
  },
  {
   "cell_type": "code",
   "execution_count": 8,
   "metadata": {
    "collapsed": true
   },
   "outputs": [],
   "source": [
    "from collections import Counter"
   ]
  },
  {
   "cell_type": "code",
   "execution_count": 18,
   "metadata": {},
   "outputs": [],
   "source": [
    "array = dataset.df.iloc[:,:-1].values"
   ]
  },
  {
   "cell_type": "code",
   "execution_count": 23,
   "metadata": {},
   "outputs": [
    {
     "ename": "ValueError",
     "evalue": "object too deep for desired array",
     "output_type": "error",
     "traceback": [
      "\u001b[0;31m---------------------------------------------------------------------------\u001b[0m",
      "\u001b[0;31mValueError\u001b[0m                                Traceback (most recent call last)",
      "\u001b[0;32m<ipython-input-23-23a7e7014ba8>\u001b[0m in \u001b[0;36m<module>\u001b[0;34m()\u001b[0m\n\u001b[0;32m----> 1\u001b[0;31m \u001b[0moccurances\u001b[0m \u001b[0;34m=\u001b[0m \u001b[0mnp\u001b[0m\u001b[0;34m.\u001b[0m\u001b[0mbincount\u001b[0m\u001b[0;34m(\u001b[0m\u001b[0marray\u001b[0m\u001b[0;34m)\u001b[0m\u001b[0;34m\u001b[0m\u001b[0m\n\u001b[0m\u001b[1;32m      2\u001b[0m \u001b[0;31m#Counter(L)\u001b[0m\u001b[0;34m\u001b[0m\u001b[0;34m\u001b[0m\u001b[0m\n",
      "\u001b[0;31mValueError\u001b[0m: object too deep for desired array"
     ]
    }
   ],
   "source": [
    "occurances = np.bincount(array)\n",
    "#Counter(L)"
   ]
  },
  {
   "cell_type": "code",
   "execution_count": 21,
   "metadata": {},
   "outputs": [],
   "source": [
    "L = array.tolist()"
   ]
  },
  {
   "cell_type": "code",
   "execution_count": 29,
   "metadata": {},
   "outputs": [
    {
     "name": "stdout",
     "output_type": "stream",
     "text": [
      "[0 0 0 0 0 0 0 0 0 0 0 0 0 0 0 0 0 0 0 0 0 0 0 0 0 0 0 0 0 0 0 0 0 0 1 1 1]\n"
     ]
    }
   ],
   "source": [
    "\n",
    "# Python3 program to find the most  \n",
    "# frequent element in an array. \n",
    "  \n",
    "def mostFrequent(arr, n): \n",
    "  \n",
    "    # Sort the array \n",
    "    arr.sort() \n",
    "  \n",
    "    # find the max frequency using \n",
    "    # linear traversal \n",
    "    max_count = 1; res = arr[0]; curr_count = 1\n",
    "      \n",
    "    for i in range(1, n):  \n",
    "        if (arr[i] == arr[i - 1]).all(): \n",
    "            curr_count += 1\n",
    "              \n",
    "        else : \n",
    "            if (curr_count > max_count):  \n",
    "                max_count = curr_count \n",
    "                res = arr[i - 1] \n",
    "              \n",
    "            curr_count = 1\n",
    "      \n",
    "    # If last element is most frequent \n",
    "    if (curr_count > max_count): \n",
    "      \n",
    "        max_count = curr_count \n",
    "        res = arr[n - 1] \n",
    "      \n",
    "    return res \n",
    "  \n",
    "# Driver Code \n",
    "arr = dataset.df.iloc[:,:-1].values\n",
    "n = len(arr) \n",
    "print(mostFrequent(arr, n)) \n",
    "  \n",
    "# This code is contributed by Smitha Dinesh Semwal. \n"
   ]
  },
  {
   "cell_type": "code",
   "execution_count": 45,
   "metadata": {},
   "outputs": [],
   "source": [
    "A = dataset.df.iloc[:,:-1].values\n",
    "#arr.sort(axis=0)"
   ]
  },
  {
   "cell_type": "code",
   "execution_count": 58,
   "metadata": {},
   "outputs": [
    {
     "ename": "SyntaxError",
     "evalue": "invalid syntax (<ipython-input-58-1cd117ad5060>, line 1)",
     "output_type": "error",
     "traceback": [
      "\u001b[0;36m  File \u001b[0;32m\"<ipython-input-58-1cd117ad5060>\"\u001b[0;36m, line \u001b[0;32m1\u001b[0m\n\u001b[0;31m    A = np.array([[0 0 0 0 0 0 0 0 0 0 0 0 0 1 0 0 0 0 0 0 0 0 0 0 0 1 0 0 0 0 0 0 0 1 0 0 0],\u001b[0m\n\u001b[0m                     ^\u001b[0m\n\u001b[0;31mSyntaxError\u001b[0m\u001b[0;31m:\u001b[0m invalid syntax\n"
     ]
    }
   ],
   "source": [
    "A = np.array([[0 0 0 0 0 0 0 0 0 0 0 0 0 1 0 0 0 0 0 0 0 0 0 0 0 1 0 0 0 0 0 0 0 1 0 0 0],\n",
    "     [0 0 0 0 0 0 0 0 0 0 0 0 0 1 0 0 0 0 0 0 0 0 0 0 0 1 0 0 0 0 0 0 0 1 0 0 0],\n",
    "     [0 0 0 0 0 0 0 0 0 0 0 0 0 1 0 0 0 0 0 0 0 0 0 0 0 1 0 0 0 0 0 0 0 0 0 0 0]])\n",
    "\n",
    "\n"
   ]
  },
  {
   "cell_type": "code",
   "execution_count": 52,
   "metadata": {},
   "outputs": [
    {
     "data": {
      "text/plain": [
       "(11617, 37)"
      ]
     },
     "execution_count": 52,
     "metadata": {},
     "output_type": "execute_result"
    }
   ],
   "source": [
    "A.shape"
   ]
  },
  {
   "cell_type": "code",
   "execution_count": 56,
   "metadata": {},
   "outputs": [],
   "source": [
    "axis = 0\n",
    "u, indices = np.unique(arr, return_inverse=True)\n",
    "answer = u[np.argmax(np.apply_along_axis(np.bincount, axis, indices.reshape(arr.shape),\n",
    "                                None, np.max(indices) + 1), axis=axis)]"
   ]
  },
  {
   "cell_type": "code",
   "execution_count": 47,
   "metadata": {},
   "outputs": [
    {
     "data": {
      "text/plain": [
       "(0, 391934)"
      ]
     },
     "execution_count": 47,
     "metadata": {},
     "output_type": "execute_result"
    }
   ],
   "source": [
    "(unique[maxpos],counts[maxpos])"
   ]
  },
  {
   "cell_type": "code",
   "execution_count": 57,
   "metadata": {},
   "outputs": [
    {
     "data": {
      "text/plain": [
       "0     0\n",
       "1     0\n",
       "2     0\n",
       "3     0\n",
       "4     0\n",
       "5     0\n",
       "6     0\n",
       "7     0\n",
       "8     0\n",
       "9     0\n",
       "10    0\n",
       "11    0\n",
       "12    0\n",
       "13    1\n",
       "14    0\n",
       "15    0\n",
       "16    0\n",
       "17    0\n",
       "18    0\n",
       "19    0\n",
       "20    0\n",
       "21    0\n",
       "22    0\n",
       "23    0\n",
       "24    0\n",
       "25    0\n",
       "26    0\n",
       "27    0\n",
       "28    0\n",
       "29    0\n",
       "30    0\n",
       "31    0\n",
       "32    0\n",
       "33    0\n",
       "34    0\n",
       "35    0\n",
       "36    0\n",
       "dtype: int64"
      ]
     },
     "execution_count": 57,
     "metadata": {},
     "output_type": "execute_result"
    }
   ],
   "source": [
    "pd.Series(answer)"
   ]
  },
  {
   "cell_type": "code",
   "execution_count": null,
   "metadata": {
    "collapsed": true
   },
   "outputs": [],
   "source": []
  }
 ],
 "metadata": {
  "kernelspec": {
   "display_name": "Python 3",
   "language": "python",
   "name": "python3"
  },
  "language_info": {
   "codemirror_mode": {
    "name": "ipython",
    "version": 3
   },
   "file_extension": ".py",
   "mimetype": "text/x-python",
   "name": "python",
   "nbconvert_exporter": "python",
   "pygments_lexer": "ipython3",
   "version": "3.6.3"
  }
 },
 "nbformat": 4,
 "nbformat_minor": 2
}
